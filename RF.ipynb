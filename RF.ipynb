{
 "cells": [
  {
   "cell_type": "code",
   "execution_count": 1,
   "metadata": {
    "collapsed": true
   },
   "outputs": [],
   "source": [
    "%matplotlib inline\n",
    "\n",
    "import pandas as pd\n",
    "import numpy as np\n",
    "import matplotlib.pyplot as plt\n",
    "from sklearn import feature_extraction\n",
    "from sklearn import preprocessing\n",
    "from sklearn.feature_extraction import DictVectorizer\n",
    "plt.style.use('ggplot') # This styles the graphs in a nicer format"
   ]
  },
  {
   "cell_type": "code",
   "execution_count": 2,
   "metadata": {
    "collapsed": true
   },
   "outputs": [],
   "source": [
    "# users = pd.read_table('users_clean2.csv', sep=',')\n",
    "# users = pd.read_csv('users_clean2.csv') "
   ]
  },
  {
   "cell_type": "code",
   "execution_count": 3,
   "metadata": {
    "collapsed": false
   },
   "outputs": [],
   "source": [
    "# users.head()"
   ]
  },
  {
   "cell_type": "code",
   "execution_count": 4,
   "metadata": {
    "collapsed": true
   },
   "outputs": [],
   "source": [
    "# users = users.fillna(0)"
   ]
  },
  {
   "cell_type": "code",
   "execution_count": 5,
   "metadata": {
    "collapsed": false
   },
   "outputs": [],
   "source": [
    "# keep_cols = ['user_email','churned']\n",
    "# users_num = users[keep_cols]\n",
    "# #df1 = df[['a','b']]\n",
    "# users_num.head()"
   ]
  },
  {
   "cell_type": "code",
   "execution_count": 6,
   "metadata": {
    "collapsed": false
   },
   "outputs": [],
   "source": [
    "# users = users.drop('user_email', 1)\n",
    "# users = users.drop('billing_email', 1)\n",
    "# users.head()"
   ]
  },
  {
   "cell_type": "code",
   "execution_count": 7,
   "metadata": {
    "collapsed": true
   },
   "outputs": [],
   "source": [
    "# users_con = pd.concat([pd.get_dummies(users[col]) for col in users], axis=1, keys=users.columns)"
   ]
  },
  {
   "cell_type": "code",
   "execution_count": 8,
   "metadata": {
    "collapsed": false
   },
   "outputs": [],
   "source": [
    "# users_con.head()"
   ]
  },
  {
   "cell_type": "code",
   "execution_count": 9,
   "metadata": {
    "collapsed": true
   },
   "outputs": [],
   "source": [
    "# users_df = [users_num,users_con]"
   ]
  },
  {
   "cell_type": "code",
   "execution_count": 10,
   "metadata": {
    "collapsed": false
   },
   "outputs": [],
   "source": [
    "# users_con = pd.concat(users, axis=1)"
   ]
  },
  {
   "cell_type": "code",
   "execution_count": 2,
   "metadata": {
    "collapsed": true
   },
   "outputs": [],
   "source": [
    "users = pd.read_table('train.csv', sep=',')\n",
    "users = pd.read_csv('train.csv') "
   ]
  },
  {
   "cell_type": "code",
   "execution_count": 13,
   "metadata": {
    "collapsed": false
   },
   "outputs": [
    {
     "data": {
      "text/html": [
       "<div>\n",
       "<table border=\"1\" class=\"dataframe\">\n",
       "  <thead>\n",
       "    <tr style=\"text-align: right;\">\n",
       "      <th></th>\n",
       "      <th>(_order_count, 0.0)</th>\n",
       "      <th>(_order_count, 1.0)</th>\n",
       "      <th>(_order_count, 2.0)</th>\n",
       "      <th>(_order_count, 3.0)</th>\n",
       "      <th>(_order_count, 4.0)</th>\n",
       "      <th>(_order_count, 5.0)</th>\n",
       "      <th>(_order_count, 6.0)</th>\n",
       "      <th>(_order_count, 7.0)</th>\n",
       "      <th>(_order_count, 8.0)</th>\n",
       "      <th>(_order_count, 9.0)</th>\n",
       "      <th>...</th>\n",
       "      <th>(billing_postcode, V7K 1S7)</th>\n",
       "      <th>(billing_postcode, V8A 2Z1)</th>\n",
       "      <th>(billing_postcode, V8L 1P4)</th>\n",
       "      <th>(billing_postcode, V8X 4A4)</th>\n",
       "      <th>(billing_postcode, V9N 9X4)</th>\n",
       "      <th>(billing_postcode, WA6009)</th>\n",
       "      <th>(billing_postcode, YO43 3RA)</th>\n",
       "      <th>(paying_customer, 0.0)</th>\n",
       "      <th>(paying_customer, 1.0)</th>\n",
       "      <th>(churned, cancelled)</th>\n",
       "    </tr>\n",
       "  </thead>\n",
       "  <tbody>\n",
       "    <tr>\n",
       "      <th>0</th>\n",
       "      <td>0</td>\n",
       "      <td>0</td>\n",
       "      <td>0</td>\n",
       "      <td>0</td>\n",
       "      <td>0</td>\n",
       "      <td>0</td>\n",
       "      <td>0</td>\n",
       "      <td>0</td>\n",
       "      <td>0</td>\n",
       "      <td>0</td>\n",
       "      <td>...</td>\n",
       "      <td>0</td>\n",
       "      <td>0</td>\n",
       "      <td>0</td>\n",
       "      <td>0</td>\n",
       "      <td>0</td>\n",
       "      <td>0</td>\n",
       "      <td>0</td>\n",
       "      <td>0</td>\n",
       "      <td>1</td>\n",
       "      <td>0</td>\n",
       "    </tr>\n",
       "    <tr>\n",
       "      <th>1</th>\n",
       "      <td>0</td>\n",
       "      <td>0</td>\n",
       "      <td>0</td>\n",
       "      <td>0</td>\n",
       "      <td>0</td>\n",
       "      <td>0</td>\n",
       "      <td>0</td>\n",
       "      <td>1</td>\n",
       "      <td>0</td>\n",
       "      <td>0</td>\n",
       "      <td>...</td>\n",
       "      <td>0</td>\n",
       "      <td>0</td>\n",
       "      <td>0</td>\n",
       "      <td>0</td>\n",
       "      <td>0</td>\n",
       "      <td>0</td>\n",
       "      <td>0</td>\n",
       "      <td>1</td>\n",
       "      <td>0</td>\n",
       "      <td>1</td>\n",
       "    </tr>\n",
       "    <tr>\n",
       "      <th>2</th>\n",
       "      <td>0</td>\n",
       "      <td>0</td>\n",
       "      <td>0</td>\n",
       "      <td>0</td>\n",
       "      <td>0</td>\n",
       "      <td>0</td>\n",
       "      <td>0</td>\n",
       "      <td>0</td>\n",
       "      <td>0</td>\n",
       "      <td>1</td>\n",
       "      <td>...</td>\n",
       "      <td>0</td>\n",
       "      <td>0</td>\n",
       "      <td>0</td>\n",
       "      <td>0</td>\n",
       "      <td>0</td>\n",
       "      <td>0</td>\n",
       "      <td>0</td>\n",
       "      <td>0</td>\n",
       "      <td>1</td>\n",
       "      <td>0</td>\n",
       "    </tr>\n",
       "    <tr>\n",
       "      <th>3</th>\n",
       "      <td>0</td>\n",
       "      <td>0</td>\n",
       "      <td>0</td>\n",
       "      <td>0</td>\n",
       "      <td>0</td>\n",
       "      <td>0</td>\n",
       "      <td>0</td>\n",
       "      <td>0</td>\n",
       "      <td>0</td>\n",
       "      <td>0</td>\n",
       "      <td>...</td>\n",
       "      <td>0</td>\n",
       "      <td>0</td>\n",
       "      <td>0</td>\n",
       "      <td>0</td>\n",
       "      <td>0</td>\n",
       "      <td>0</td>\n",
       "      <td>0</td>\n",
       "      <td>0</td>\n",
       "      <td>1</td>\n",
       "      <td>1</td>\n",
       "    </tr>\n",
       "    <tr>\n",
       "      <th>4</th>\n",
       "      <td>0</td>\n",
       "      <td>0</td>\n",
       "      <td>0</td>\n",
       "      <td>0</td>\n",
       "      <td>0</td>\n",
       "      <td>0</td>\n",
       "      <td>0</td>\n",
       "      <td>1</td>\n",
       "      <td>0</td>\n",
       "      <td>0</td>\n",
       "      <td>...</td>\n",
       "      <td>0</td>\n",
       "      <td>0</td>\n",
       "      <td>0</td>\n",
       "      <td>0</td>\n",
       "      <td>0</td>\n",
       "      <td>0</td>\n",
       "      <td>0</td>\n",
       "      <td>0</td>\n",
       "      <td>1</td>\n",
       "      <td>0</td>\n",
       "    </tr>\n",
       "  </tbody>\n",
       "</table>\n",
       "<p>5 rows × 6977 columns</p>\n",
       "</div>"
      ],
      "text/plain": [
       "   (_order_count, 0.0)  (_order_count, 1.0)  (_order_count, 2.0)  \\\n",
       "0                    0                    0                    0   \n",
       "1                    0                    0                    0   \n",
       "2                    0                    0                    0   \n",
       "3                    0                    0                    0   \n",
       "4                    0                    0                    0   \n",
       "\n",
       "   (_order_count, 3.0)  (_order_count, 4.0)  (_order_count, 5.0)  \\\n",
       "0                    0                    0                    0   \n",
       "1                    0                    0                    0   \n",
       "2                    0                    0                    0   \n",
       "3                    0                    0                    0   \n",
       "4                    0                    0                    0   \n",
       "\n",
       "   (_order_count, 6.0)  (_order_count, 7.0)  (_order_count, 8.0)  \\\n",
       "0                    0                    0                    0   \n",
       "1                    0                    1                    0   \n",
       "2                    0                    0                    0   \n",
       "3                    0                    0                    0   \n",
       "4                    0                    1                    0   \n",
       "\n",
       "   (_order_count, 9.0)          ...           (billing_postcode, V7K 1S7)  \\\n",
       "0                    0          ...                                     0   \n",
       "1                    0          ...                                     0   \n",
       "2                    1          ...                                     0   \n",
       "3                    0          ...                                     0   \n",
       "4                    0          ...                                     0   \n",
       "\n",
       "   (billing_postcode, V8A 2Z1)  (billing_postcode, V8L 1P4)  \\\n",
       "0                            0                            0   \n",
       "1                            0                            0   \n",
       "2                            0                            0   \n",
       "3                            0                            0   \n",
       "4                            0                            0   \n",
       "\n",
       "   (billing_postcode, V8X 4A4)  (billing_postcode, V9N 9X4)  \\\n",
       "0                            0                            0   \n",
       "1                            0                            0   \n",
       "2                            0                            0   \n",
       "3                            0                            0   \n",
       "4                            0                            0   \n",
       "\n",
       "   (billing_postcode, WA6009)  (billing_postcode, YO43 3RA)  \\\n",
       "0                           0                             0   \n",
       "1                           0                             0   \n",
       "2                           0                             0   \n",
       "3                           0                             0   \n",
       "4                           0                             0   \n",
       "\n",
       "   (paying_customer, 0.0)  (paying_customer, 1.0)  (churned, cancelled)  \n",
       "0                       0                       1                     0  \n",
       "1                       1                       0                     1  \n",
       "2                       0                       1                     0  \n",
       "3                       0                       1                     1  \n",
       "4                       0                       1                     0  \n",
       "\n",
       "[5 rows x 6977 columns]"
      ]
     },
     "execution_count": 13,
     "metadata": {},
     "output_type": "execute_result"
    }
   ],
   "source": [
    "# users = users.drop('user_email', 1)\n",
    "# users = users.drop('Unnamed: 0', 1)\n",
    "# users = users.drop('(churned, 0.0)', 1)\n",
    "\n",
    "# users.head()"
   ]
  },
  {
   "cell_type": "code",
   "execution_count": 3,
   "metadata": {
    "collapsed": false
   },
   "outputs": [
    {
     "data": {
      "text/html": [
       "<div>\n",
       "<table border=\"1\" class=\"dataframe\">\n",
       "  <thead>\n",
       "    <tr style=\"text-align: right;\">\n",
       "      <th></th>\n",
       "      <th>ID</th>\n",
       "      <th>var3</th>\n",
       "      <th>var15</th>\n",
       "      <th>imp_ent_var16_ult1</th>\n",
       "      <th>imp_op_var39_comer_ult1</th>\n",
       "      <th>imp_op_var39_comer_ult3</th>\n",
       "      <th>imp_op_var40_comer_ult1</th>\n",
       "      <th>imp_op_var40_comer_ult3</th>\n",
       "      <th>imp_op_var40_efect_ult1</th>\n",
       "      <th>imp_op_var40_efect_ult3</th>\n",
       "      <th>...</th>\n",
       "      <th>saldo_medio_var29_ult3</th>\n",
       "      <th>saldo_medio_var33_hace2</th>\n",
       "      <th>saldo_medio_var33_hace3</th>\n",
       "      <th>saldo_medio_var33_ult1</th>\n",
       "      <th>saldo_medio_var33_ult3</th>\n",
       "      <th>saldo_medio_var44_hace2</th>\n",
       "      <th>saldo_medio_var44_hace3</th>\n",
       "      <th>saldo_medio_var44_ult1</th>\n",
       "      <th>saldo_medio_var44_ult3</th>\n",
       "      <th>var38</th>\n",
       "    </tr>\n",
       "  </thead>\n",
       "  <tbody>\n",
       "    <tr>\n",
       "      <th>0</th>\n",
       "      <td>1</td>\n",
       "      <td>2</td>\n",
       "      <td>23</td>\n",
       "      <td>0</td>\n",
       "      <td>0</td>\n",
       "      <td>0</td>\n",
       "      <td>0</td>\n",
       "      <td>0</td>\n",
       "      <td>0</td>\n",
       "      <td>0</td>\n",
       "      <td>...</td>\n",
       "      <td>0</td>\n",
       "      <td>0</td>\n",
       "      <td>0</td>\n",
       "      <td>0</td>\n",
       "      <td>0</td>\n",
       "      <td>0</td>\n",
       "      <td>0</td>\n",
       "      <td>0</td>\n",
       "      <td>0</td>\n",
       "      <td>39205.170000</td>\n",
       "    </tr>\n",
       "    <tr>\n",
       "      <th>1</th>\n",
       "      <td>3</td>\n",
       "      <td>2</td>\n",
       "      <td>34</td>\n",
       "      <td>0</td>\n",
       "      <td>0</td>\n",
       "      <td>0</td>\n",
       "      <td>0</td>\n",
       "      <td>0</td>\n",
       "      <td>0</td>\n",
       "      <td>0</td>\n",
       "      <td>...</td>\n",
       "      <td>0</td>\n",
       "      <td>0</td>\n",
       "      <td>0</td>\n",
       "      <td>0</td>\n",
       "      <td>0</td>\n",
       "      <td>0</td>\n",
       "      <td>0</td>\n",
       "      <td>0</td>\n",
       "      <td>0</td>\n",
       "      <td>49278.030000</td>\n",
       "    </tr>\n",
       "    <tr>\n",
       "      <th>2</th>\n",
       "      <td>4</td>\n",
       "      <td>2</td>\n",
       "      <td>23</td>\n",
       "      <td>0</td>\n",
       "      <td>0</td>\n",
       "      <td>0</td>\n",
       "      <td>0</td>\n",
       "      <td>0</td>\n",
       "      <td>0</td>\n",
       "      <td>0</td>\n",
       "      <td>...</td>\n",
       "      <td>0</td>\n",
       "      <td>0</td>\n",
       "      <td>0</td>\n",
       "      <td>0</td>\n",
       "      <td>0</td>\n",
       "      <td>0</td>\n",
       "      <td>0</td>\n",
       "      <td>0</td>\n",
       "      <td>0</td>\n",
       "      <td>67333.770000</td>\n",
       "    </tr>\n",
       "    <tr>\n",
       "      <th>3</th>\n",
       "      <td>8</td>\n",
       "      <td>2</td>\n",
       "      <td>37</td>\n",
       "      <td>0</td>\n",
       "      <td>195</td>\n",
       "      <td>195</td>\n",
       "      <td>0</td>\n",
       "      <td>0</td>\n",
       "      <td>0</td>\n",
       "      <td>0</td>\n",
       "      <td>...</td>\n",
       "      <td>0</td>\n",
       "      <td>0</td>\n",
       "      <td>0</td>\n",
       "      <td>0</td>\n",
       "      <td>0</td>\n",
       "      <td>0</td>\n",
       "      <td>0</td>\n",
       "      <td>0</td>\n",
       "      <td>0</td>\n",
       "      <td>64007.970000</td>\n",
       "    </tr>\n",
       "    <tr>\n",
       "      <th>4</th>\n",
       "      <td>10</td>\n",
       "      <td>2</td>\n",
       "      <td>39</td>\n",
       "      <td>0</td>\n",
       "      <td>0</td>\n",
       "      <td>0</td>\n",
       "      <td>0</td>\n",
       "      <td>0</td>\n",
       "      <td>0</td>\n",
       "      <td>0</td>\n",
       "      <td>...</td>\n",
       "      <td>0</td>\n",
       "      <td>0</td>\n",
       "      <td>0</td>\n",
       "      <td>0</td>\n",
       "      <td>0</td>\n",
       "      <td>0</td>\n",
       "      <td>0</td>\n",
       "      <td>0</td>\n",
       "      <td>0</td>\n",
       "      <td>117310.979016</td>\n",
       "    </tr>\n",
       "  </tbody>\n",
       "</table>\n",
       "<p>5 rows × 370 columns</p>\n",
       "</div>"
      ],
      "text/plain": [
       "   ID  var3  var15  imp_ent_var16_ult1  imp_op_var39_comer_ult1  \\\n",
       "0   1     2     23                   0                        0   \n",
       "1   3     2     34                   0                        0   \n",
       "2   4     2     23                   0                        0   \n",
       "3   8     2     37                   0                      195   \n",
       "4  10     2     39                   0                        0   \n",
       "\n",
       "   imp_op_var39_comer_ult3  imp_op_var40_comer_ult1  imp_op_var40_comer_ult3  \\\n",
       "0                        0                        0                        0   \n",
       "1                        0                        0                        0   \n",
       "2                        0                        0                        0   \n",
       "3                      195                        0                        0   \n",
       "4                        0                        0                        0   \n",
       "\n",
       "   imp_op_var40_efect_ult1  imp_op_var40_efect_ult3      ...        \\\n",
       "0                        0                        0      ...         \n",
       "1                        0                        0      ...         \n",
       "2                        0                        0      ...         \n",
       "3                        0                        0      ...         \n",
       "4                        0                        0      ...         \n",
       "\n",
       "   saldo_medio_var29_ult3  saldo_medio_var33_hace2  saldo_medio_var33_hace3  \\\n",
       "0                       0                        0                        0   \n",
       "1                       0                        0                        0   \n",
       "2                       0                        0                        0   \n",
       "3                       0                        0                        0   \n",
       "4                       0                        0                        0   \n",
       "\n",
       "   saldo_medio_var33_ult1  saldo_medio_var33_ult3  saldo_medio_var44_hace2  \\\n",
       "0                       0                       0                        0   \n",
       "1                       0                       0                        0   \n",
       "2                       0                       0                        0   \n",
       "3                       0                       0                        0   \n",
       "4                       0                       0                        0   \n",
       "\n",
       "   saldo_medio_var44_hace3  saldo_medio_var44_ult1  saldo_medio_var44_ult3  \\\n",
       "0                        0                       0                       0   \n",
       "1                        0                       0                       0   \n",
       "2                        0                       0                       0   \n",
       "3                        0                       0                       0   \n",
       "4                        0                       0                       0   \n",
       "\n",
       "           var38  \n",
       "0   39205.170000  \n",
       "1   49278.030000  \n",
       "2   67333.770000  \n",
       "3   64007.970000  \n",
       "4  117310.979016  \n",
       "\n",
       "[5 rows x 370 columns]"
      ]
     },
     "execution_count": 3,
     "metadata": {},
     "output_type": "execute_result"
    }
   ],
   "source": [
    "churn_result = users['TARGET']\n",
    "users = users.drop('TARGET', 1)\n",
    "y = churn_result\n",
    "users.head()"
   ]
  },
  {
   "cell_type": "code",
   "execution_count": 4,
   "metadata": {
    "collapsed": false
   },
   "outputs": [],
   "source": [
    "remove = []\n",
    "for col in users.columns:\n",
    "    if users[col].std() == 0:\n",
    "        remove.append(col)\n",
    "\n",
    "users.drop(remove, axis=1, inplace=True)\n",
    "\n",
    "\n",
    "# remove duplicated columns\n",
    "remove = []\n",
    "c = users.columns\n",
    "for i in range(len(c)-1):\n",
    "    v = users[c[i]].values\n",
    "    for j in range(i+1,len(c)):\n",
    "        if np.array_equal(v,users[c[j]].values):\n",
    "            remove.append(c[j])"
   ]
  },
  {
   "cell_type": "code",
   "execution_count": 5,
   "metadata": {
    "collapsed": false
   },
   "outputs": [
    {
     "data": {
      "text/plain": [
       "(76020, 336)"
      ]
     },
     "execution_count": 5,
     "metadata": {},
     "output_type": "execute_result"
    }
   ],
   "source": [
    "features = users.columns\n",
    "\n",
    "X = users.as_matrix().astype(np.float)\n",
    "X.shape"
   ]
  },
  {
   "cell_type": "code",
   "execution_count": 6,
   "metadata": {
    "collapsed": false
   },
   "outputs": [
    {
     "data": {
      "text/plain": [
       "Index([u'ID', u'var3', u'var15', u'imp_ent_var16_ult1',\n",
       "       u'imp_op_var39_comer_ult1', u'imp_op_var39_comer_ult3',\n",
       "       u'imp_op_var40_comer_ult1', u'imp_op_var40_comer_ult3',\n",
       "       u'imp_op_var40_efect_ult1', u'imp_op_var40_efect_ult3',\n",
       "       ...\n",
       "       u'saldo_medio_var29_ult3', u'saldo_medio_var33_hace2',\n",
       "       u'saldo_medio_var33_hace3', u'saldo_medio_var33_ult1',\n",
       "       u'saldo_medio_var33_ult3', u'saldo_medio_var44_hace2',\n",
       "       u'saldo_medio_var44_hace3', u'saldo_medio_var44_ult1',\n",
       "       u'saldo_medio_var44_ult3', u'var38'],\n",
       "      dtype='object', length=336)"
      ]
     },
     "execution_count": 6,
     "metadata": {},
     "output_type": "execute_result"
    }
   ],
   "source": [
    "features"
   ]
  },
  {
   "cell_type": "code",
   "execution_count": 7,
   "metadata": {
    "collapsed": false
   },
   "outputs": [
    {
     "name": "stdout",
     "output_type": "stream",
     "text": [
      "Feature space holds 76020 observations and 336 features\n",
      "Unique target labels: [0 1]\n"
     ]
    }
   ],
   "source": [
    "from sklearn.preprocessing import StandardScaler\n",
    "scaler = StandardScaler()\n",
    "X = scaler.fit_transform(X)\n",
    "\n",
    "print \"Feature space holds %d observations and %d features\" % X.shape\n",
    "print \"Unique target labels:\", np.unique(y)"
   ]
  },
  {
   "cell_type": "code",
   "execution_count": 8,
   "metadata": {
    "collapsed": false
   },
   "outputs": [
    {
     "name": "stdout",
     "output_type": "stream",
     "text": [
      "sklearn.cross_validation.KFold(n=76020, n_folds=5, shuffle=True, random_state=None)\n",
      "('TRAIN:', array([    0,     1,     2, ..., 76015, 76017, 76018]), 'TEST:', array([    4,     9,    18, ..., 76012, 76016, 76019]))\n",
      "('TRAIN:', array([    0,     1,     2, ..., 76017, 76018, 76019]), 'TEST:', array([    5,    11,    14, ..., 76004, 76011, 76015]))\n",
      "('TRAIN:', array([    0,     1,     2, ..., 76016, 76017, 76019]), 'TEST:', array([   12,    15,    20, ..., 76013, 76014, 76018]))\n",
      "('TRAIN:', array([    0,     1,     2, ..., 76016, 76018, 76019]), 'TEST:', array([    3,     7,    10, ..., 76009, 76010, 76017]))\n",
      "('TRAIN:', array([    3,     4,     5, ..., 76017, 76018, 76019]), 'TEST:', array([    0,     1,     2, ..., 75988, 75991, 75994]))\n"
     ]
    }
   ],
   "source": [
    "from sklearn.cross_validation import KFold\n",
    "\n",
    "kf = KFold(len(y),n_folds=5,shuffle=True)\n",
    "len(kf)\n",
    "\n",
    "print(kf)\n",
    "\n",
    "for train_index, test_index in kf:\n",
    "    print(\"TRAIN:\", train_index, \"TEST:\", test_index)\n",
    "    X_train, X_test = X[train_index], X[test_index]\n",
    "    y_train, y_test = y[train_index], y[test_index]"
   ]
  },
  {
   "cell_type": "code",
   "execution_count": 9,
   "metadata": {
    "collapsed": true
   },
   "outputs": [],
   "source": [
    "from sklearn.cross_validation import KFold\n",
    "\n",
    "def run_cv(X,y,clf_class,**kwargs):\n",
    "# Construct a kfolds object\n",
    "    kf = KFold(len(y),n_folds=5,shuffle=True)\n",
    "    y_pred = y.copy()\n",
    "    \n",
    "    # Iterate through folds\n",
    "    for train_index, test_index in kf:\n",
    "        X_train, X_test = X[train_index], X[test_index]\n",
    "        y_train = y[train_index]\n",
    "   \n",
    "        clf = clf_class(**kwargs)\n",
    "        clf.fit(X_train,y_train)\n",
    "        y_pred[test_index] = clf.predict(X_test)\n",
    "    return y_pred"
   ]
  },
  {
   "cell_type": "code",
   "execution_count": 10,
   "metadata": {
    "collapsed": true
   },
   "outputs": [],
   "source": [
    "def run_prob_cv(X, y, clf_class, **kwargs):\n",
    "    kf = KFold(len(y), n_folds=5, shuffle=True)\n",
    "    y_prob = np.zeros((len(y),2))\n",
    "    for train_index, test_index in kf:\n",
    "        X_train, X_test = X[train_index], X[test_index]\n",
    "        y_train = y[train_index]\n",
    "        clf = clf_class(**kwargs)\n",
    "        clf.fit(X_train,y_train)\n",
    "        # Predict probabilities, not classes\n",
    "        y_prob[test_index] = clf.predict_proba(X_test)\n",
    "    return y_prob"
   ]
  },
  {
   "cell_type": "code",
   "execution_count": 20,
   "metadata": {
    "collapsed": false
   },
   "outputs": [
    {
     "name": "stdout",
     "output_type": "stream",
     "text": [
      "0.17.1\n"
     ]
    }
   ],
   "source": [
    "import sklearn\n",
    "print(sklearn.__version__)"
   ]
  },
  {
   "cell_type": "code",
   "execution_count": 30,
   "metadata": {
    "collapsed": false
   },
   "outputs": [
    {
     "data": {
      "text/plain": [
       "ExtraTreesClassifier(bootstrap=False, class_weight=None, criterion='gini',\n",
       "           max_depth=None, max_features='auto', max_leaf_nodes=None,\n",
       "           min_samples_leaf=1, min_samples_split=2,\n",
       "           min_weight_fraction_leaf=0.0, n_estimators=10, n_jobs=1,\n",
       "           oob_score=False, random_state=None, verbose=0, warm_start=False)"
      ]
     },
     "execution_count": 30,
     "metadata": {},
     "output_type": "execute_result"
    }
   ],
   "source": [
    "from sklearn.ensemble import ExtraTreesClassifier\n",
    "from sklearn.datasets import load_iris\n",
    "from sklearn.feature_selection import SelectFromModel\n",
    "X.shape\n",
    "\n",
    "clf = ExtraTreesClassifier()\n",
    "clf = clf.fit(X, y)\n",
    "clf.feature_importances_  \n",
    "model = SelectFromModel(clf, prefit=True)\n",
    "X_new = model.transform(X)\n",
    "#X_new.shape\n",
    "clf"
   ]
  },
  {
   "cell_type": "code",
<<<<<<< HEAD
   "execution_count": 25,
=======
   "execution_count": 13,
>>>>>>> 316527bf8a2b354639f2993e735ab877583808fc
   "metadata": {
    "collapsed": false,
    "scrolled": true
   },
   "outputs": [
    {
     "name": "stdout",
     "output_type": "stream",
     "text": [
<<<<<<< HEAD
      "Support vector machines:\n"
     ]
    },
    {
     "ename": "KeyboardInterrupt",
     "evalue": "",
     "output_type": "error",
     "traceback": [
      "\u001b[1;31m---------------------------------------------------------------------------\u001b[0m",
      "\u001b[1;31mKeyboardInterrupt\u001b[0m                         Traceback (most recent call last)",
      "\u001b[1;32m<ipython-input-25-fab7e04a6172>\u001b[0m in \u001b[0;36m<module>\u001b[1;34m()\u001b[0m\n\u001b[0;32m      8\u001b[0m \u001b[1;33m\u001b[0m\u001b[0m\n\u001b[0;32m      9\u001b[0m \u001b[1;32mprint\u001b[0m \u001b[1;34m\"Support vector machines:\"\u001b[0m\u001b[1;33m\u001b[0m\u001b[0m\n\u001b[1;32m---> 10\u001b[1;33m \u001b[1;32mprint\u001b[0m \u001b[1;34m\"%.3f\"\u001b[0m \u001b[1;33m%\u001b[0m \u001b[0maccuracy\u001b[0m\u001b[1;33m(\u001b[0m\u001b[0my\u001b[0m\u001b[1;33m,\u001b[0m \u001b[0mrun_cv\u001b[0m\u001b[1;33m(\u001b[0m\u001b[0mX\u001b[0m\u001b[1;33m,\u001b[0m\u001b[0my\u001b[0m\u001b[1;33m,\u001b[0m\u001b[0mSVC\u001b[0m\u001b[1;33m)\u001b[0m\u001b[1;33m)\u001b[0m\u001b[1;33m\u001b[0m\u001b[0m\n\u001b[0m\u001b[0;32m     11\u001b[0m \u001b[1;32mprint\u001b[0m \u001b[1;34m\"Random forest:\"\u001b[0m\u001b[1;33m\u001b[0m\u001b[0m\n\u001b[0;32m     12\u001b[0m \u001b[1;32mprint\u001b[0m \u001b[1;34m\"%.3f\"\u001b[0m \u001b[1;33m%\u001b[0m \u001b[0maccuracy\u001b[0m\u001b[1;33m(\u001b[0m\u001b[0my\u001b[0m\u001b[1;33m,\u001b[0m \u001b[0mrun_cv\u001b[0m\u001b[1;33m(\u001b[0m\u001b[0mX\u001b[0m\u001b[1;33m,\u001b[0m\u001b[0my\u001b[0m\u001b[1;33m,\u001b[0m\u001b[0mRF\u001b[0m\u001b[1;33m)\u001b[0m\u001b[1;33m)\u001b[0m\u001b[1;33m\u001b[0m\u001b[0m\n",
      "\u001b[1;32m<ipython-input-23-442db2549630>\u001b[0m in \u001b[0;36mrun_cv\u001b[1;34m(X, y, clf_class, **kwargs)\u001b[0m\n\u001b[0;32m     12\u001b[0m \u001b[1;33m\u001b[0m\u001b[0m\n\u001b[0;32m     13\u001b[0m         \u001b[0mclf\u001b[0m \u001b[1;33m=\u001b[0m \u001b[0mclf_class\u001b[0m\u001b[1;33m(\u001b[0m\u001b[1;33m**\u001b[0m\u001b[0mkwargs\u001b[0m\u001b[1;33m)\u001b[0m\u001b[1;33m\u001b[0m\u001b[0m\n\u001b[1;32m---> 14\u001b[1;33m         \u001b[0mclf\u001b[0m\u001b[1;33m.\u001b[0m\u001b[0mfit\u001b[0m\u001b[1;33m(\u001b[0m\u001b[0mX_train\u001b[0m\u001b[1;33m,\u001b[0m\u001b[0my_train\u001b[0m\u001b[1;33m)\u001b[0m\u001b[1;33m\u001b[0m\u001b[0m\n\u001b[0m\u001b[0;32m     15\u001b[0m         \u001b[0my_pred\u001b[0m\u001b[1;33m[\u001b[0m\u001b[0mtest_index\u001b[0m\u001b[1;33m]\u001b[0m \u001b[1;33m=\u001b[0m \u001b[0mclf\u001b[0m\u001b[1;33m.\u001b[0m\u001b[0mpredict\u001b[0m\u001b[1;33m(\u001b[0m\u001b[0mX_test\u001b[0m\u001b[1;33m)\u001b[0m\u001b[1;33m\u001b[0m\u001b[0m\n\u001b[0;32m     16\u001b[0m     \u001b[1;32mreturn\u001b[0m \u001b[0my_pred\u001b[0m\u001b[1;33m\u001b[0m\u001b[0m\n",
      "\u001b[1;32mC:\\Users\\Angus\\Anaconda2\\lib\\site-packages\\sklearn\\svm\\base.pyc\u001b[0m in \u001b[0;36mfit\u001b[1;34m(self, X, y, sample_weight)\u001b[0m\n\u001b[0;32m    191\u001b[0m \u001b[1;33m\u001b[0m\u001b[0m\n\u001b[0;32m    192\u001b[0m         \u001b[0mseed\u001b[0m \u001b[1;33m=\u001b[0m \u001b[0mrnd\u001b[0m\u001b[1;33m.\u001b[0m\u001b[0mrandint\u001b[0m\u001b[1;33m(\u001b[0m\u001b[0mnp\u001b[0m\u001b[1;33m.\u001b[0m\u001b[0miinfo\u001b[0m\u001b[1;33m(\u001b[0m\u001b[1;34m'i'\u001b[0m\u001b[1;33m)\u001b[0m\u001b[1;33m.\u001b[0m\u001b[0mmax\u001b[0m\u001b[1;33m)\u001b[0m\u001b[1;33m\u001b[0m\u001b[0m\n\u001b[1;32m--> 193\u001b[1;33m         \u001b[0mfit\u001b[0m\u001b[1;33m(\u001b[0m\u001b[0mX\u001b[0m\u001b[1;33m,\u001b[0m \u001b[0my\u001b[0m\u001b[1;33m,\u001b[0m \u001b[0msample_weight\u001b[0m\u001b[1;33m,\u001b[0m \u001b[0msolver_type\u001b[0m\u001b[1;33m,\u001b[0m \u001b[0mkernel\u001b[0m\u001b[1;33m,\u001b[0m \u001b[0mrandom_seed\u001b[0m\u001b[1;33m=\u001b[0m\u001b[0mseed\u001b[0m\u001b[1;33m)\u001b[0m\u001b[1;33m\u001b[0m\u001b[0m\n\u001b[0m\u001b[0;32m    194\u001b[0m         \u001b[1;31m# see comment on the other call to np.iinfo in this file\u001b[0m\u001b[1;33m\u001b[0m\u001b[1;33m\u001b[0m\u001b[0m\n\u001b[0;32m    195\u001b[0m \u001b[1;33m\u001b[0m\u001b[0m\n",
      "\u001b[1;32mC:\\Users\\Angus\\Anaconda2\\lib\\site-packages\\sklearn\\svm\\base.pyc\u001b[0m in \u001b[0;36m_dense_fit\u001b[1;34m(self, X, y, sample_weight, solver_type, kernel, random_seed)\u001b[0m\n\u001b[0;32m    249\u001b[0m                 \u001b[0mcache_size\u001b[0m\u001b[1;33m=\u001b[0m\u001b[0mself\u001b[0m\u001b[1;33m.\u001b[0m\u001b[0mcache_size\u001b[0m\u001b[1;33m,\u001b[0m \u001b[0mcoef0\u001b[0m\u001b[1;33m=\u001b[0m\u001b[0mself\u001b[0m\u001b[1;33m.\u001b[0m\u001b[0mcoef0\u001b[0m\u001b[1;33m,\u001b[0m\u001b[1;33m\u001b[0m\u001b[0m\n\u001b[0;32m    250\u001b[0m                 \u001b[0mgamma\u001b[0m\u001b[1;33m=\u001b[0m\u001b[0mself\u001b[0m\u001b[1;33m.\u001b[0m\u001b[0m_gamma\u001b[0m\u001b[1;33m,\u001b[0m \u001b[0mepsilon\u001b[0m\u001b[1;33m=\u001b[0m\u001b[0mself\u001b[0m\u001b[1;33m.\u001b[0m\u001b[0mepsilon\u001b[0m\u001b[1;33m,\u001b[0m\u001b[1;33m\u001b[0m\u001b[0m\n\u001b[1;32m--> 251\u001b[1;33m                 max_iter=self.max_iter, random_seed=random_seed)\n\u001b[0m\u001b[0;32m    252\u001b[0m \u001b[1;33m\u001b[0m\u001b[0m\n\u001b[0;32m    253\u001b[0m         \u001b[0mself\u001b[0m\u001b[1;33m.\u001b[0m\u001b[0m_warn_from_fit_status\u001b[0m\u001b[1;33m(\u001b[0m\u001b[1;33m)\u001b[0m\u001b[1;33m\u001b[0m\u001b[0m\n",
      "\u001b[1;32msklearn/svm/libsvm.pyx\u001b[0m in \u001b[0;36msklearn.svm.libsvm.fit (sklearn\\svm\\libsvm.c:2261)\u001b[1;34m()\u001b[0m\n",
      "\u001b[1;31mKeyboardInterrupt\u001b[0m: "
=======
      "Support vector machines:\n",
      "0.960\n",
      "Random forest:\n",
      "0.957\n",
      "K-nearest-neighbors:\n",
      "0.958\n"
>>>>>>> 316527bf8a2b354639f2993e735ab877583808fc
     ]
    }
   ],
   "source": [
    "from sklearn.svm import SVC\n",
    "from sklearn.ensemble import RandomForestClassifier as RF\n",
    "from sklearn.neighbors import KNeighborsClassifier as KNN\n",
    "\n",
    "def accuracy(y_true,y_pred):\n",
    "   \n",
    "    return np.mean(y_true == y_pred)\n",
    "\n",
    "print \"Support vector machines:\"\n",
    "print \"%.3f\" % accuracy(y, run_cv(X,y,SVC))\n",
    "print \"Random forest:\"\n",
    "print \"%.3f\" % accuracy(y, run_cv(X,y,RF))\n",
    "print \"K-nearest-neighbors:\"\n",
    "print \"%.3f\" % accuracy(y, run_cv(X,y,KNN))"
   ]
  },
  {
   "cell_type": "code",
   "execution_count": 12,
   "metadata": {
    "collapsed": false
   },
   "outputs": [
    {
     "name": "stdout",
     "output_type": "stream",
     "text": [
      "0.960191397001\n",
      "0.96045777427\n"
     ]
    }
   ],
   "source": [
    "from sklearn.ensemble import RandomForestClassifier as RF\n",
    "rf = RF(max_depth=5, n_estimators=50)\n",
    "rff_train = rf.fit(X_train, y_train)\n",
    "rff_test = rf.fit(X, y)\n",
    "rfs_test = rf.score(X_train, y_train)\n",
    "rfs_train = rf.score(X, y)\n",
    "rfp = rf.predict(X_train)\n",
    "#rfa = rf.accuracy(X_train, y_train)\n",
    "print rfs_test\n",
    "print rfs_train\n"
   ]
  },
  {
   "cell_type": "code",
   "execution_count": 37,
   "metadata": {
    "collapsed": false
   },
   "outputs": [
    {
     "ename": "NameError",
     "evalue": "name 'rfp' is not defined",
     "output_type": "error",
     "traceback": [
      "\u001b[1;31m---------------------------------------------------------------------------\u001b[0m",
      "\u001b[1;31mNameError\u001b[0m                                 Traceback (most recent call last)",
      "\u001b[1;32m<ipython-input-37-c27b94966ee2>\u001b[0m in \u001b[0;36m<module>\u001b[1;34m()\u001b[0m\n\u001b[1;32m----> 1\u001b[1;33m \u001b[0musers1\u001b[0m \u001b[1;33m=\u001b[0m \u001b[0mpd\u001b[0m\u001b[1;33m.\u001b[0m\u001b[0mDataFrame\u001b[0m\u001b[1;33m(\u001b[0m\u001b[0mrfp\u001b[0m\u001b[1;33m,\u001b[0m \u001b[0mcolumns\u001b[0m\u001b[1;33m=\u001b[0m\u001b[1;33m[\u001b[0m\u001b[1;34m'pred_prob'\u001b[0m\u001b[1;33m]\u001b[0m\u001b[1;33m)\u001b[0m\u001b[1;33m\u001b[0m\u001b[0m\n\u001b[0m\u001b[0;32m      2\u001b[0m \u001b[0musers1\u001b[0m\u001b[1;33m\u001b[0m\u001b[0m\n",
      "\u001b[1;31mNameError\u001b[0m: name 'rfp' is not defined"
     ]
    }
   ],
   "source": [
    "users1 = pd.DataFrame(rfp, columns=['pred_prob'])\n",
    "users1"
   ]
  },
  {
   "cell_type": "code",
   "execution_count": 40,
   "metadata": {
    "collapsed": false
   },
   "outputs": [
    {
     "ename": "ValueError",
     "evalue": "Can't handle mix of multilabel-indicator and binary",
     "output_type": "error",
     "traceback": [
      "\u001b[1;31m---------------------------------------------------------------------------\u001b[0m",
      "\u001b[1;31mValueError\u001b[0m                                Traceback (most recent call last)",
      "\u001b[1;32m<ipython-input-40-f3a7a6040c02>\u001b[0m in \u001b[0;36m<module>\u001b[1;34m()\u001b[0m\n\u001b[0;32m      2\u001b[0m \u001b[1;32mfrom\u001b[0m \u001b[0msklearn\u001b[0m\u001b[1;33m.\u001b[0m\u001b[0mmetrics\u001b[0m \u001b[1;32mimport\u001b[0m \u001b[0mconfusion_matrix\u001b[0m\u001b[1;33m\u001b[0m\u001b[0m\n\u001b[0;32m      3\u001b[0m \u001b[1;33m\u001b[0m\u001b[0m\n\u001b[1;32m----> 4\u001b[1;33m \u001b[0mcm\u001b[0m \u001b[1;33m=\u001b[0m \u001b[0mconfusion_matrix\u001b[0m\u001b[1;33m(\u001b[0m\u001b[0mX_new\u001b[0m\u001b[1;33m,\u001b[0m \u001b[0my\u001b[0m\u001b[1;33m)\u001b[0m\u001b[1;33m\u001b[0m\u001b[0m\n\u001b[0m\u001b[0;32m      5\u001b[0m \u001b[1;33m\u001b[0m\u001b[0m\n\u001b[0;32m      6\u001b[0m \u001b[0mlabels\u001b[0m \u001b[1;33m=\u001b[0m \u001b[1;33m[\u001b[0m\u001b[1;34m'Churn'\u001b[0m\u001b[1;33m,\u001b[0m \u001b[1;34m'Non-Churn'\u001b[0m\u001b[1;33m]\u001b[0m\u001b[1;33m\u001b[0m\u001b[0m\n",
      "\u001b[1;32mC:\\Users\\Angus\\Anaconda2\\lib\\site-packages\\sklearn\\metrics\\classification.pyc\u001b[0m in \u001b[0;36mconfusion_matrix\u001b[1;34m(y_true, y_pred, labels)\u001b[0m\n\u001b[0;32m    231\u001b[0m \u001b[1;33m\u001b[0m\u001b[0m\n\u001b[0;32m    232\u001b[0m     \"\"\"\n\u001b[1;32m--> 233\u001b[1;33m     \u001b[0my_type\u001b[0m\u001b[1;33m,\u001b[0m \u001b[0my_true\u001b[0m\u001b[1;33m,\u001b[0m \u001b[0my_pred\u001b[0m \u001b[1;33m=\u001b[0m \u001b[0m_check_targets\u001b[0m\u001b[1;33m(\u001b[0m\u001b[0my_true\u001b[0m\u001b[1;33m,\u001b[0m \u001b[0my_pred\u001b[0m\u001b[1;33m)\u001b[0m\u001b[1;33m\u001b[0m\u001b[0m\n\u001b[0m\u001b[0;32m    234\u001b[0m     \u001b[1;32mif\u001b[0m \u001b[0my_type\u001b[0m \u001b[1;32mnot\u001b[0m \u001b[1;32min\u001b[0m \u001b[1;33m(\u001b[0m\u001b[1;34m\"binary\"\u001b[0m\u001b[1;33m,\u001b[0m \u001b[1;34m\"multiclass\"\u001b[0m\u001b[1;33m)\u001b[0m\u001b[1;33m:\u001b[0m\u001b[1;33m\u001b[0m\u001b[0m\n\u001b[0;32m    235\u001b[0m         \u001b[1;32mraise\u001b[0m \u001b[0mValueError\u001b[0m\u001b[1;33m(\u001b[0m\u001b[1;34m\"%s is not supported\"\u001b[0m \u001b[1;33m%\u001b[0m \u001b[0my_type\u001b[0m\u001b[1;33m)\u001b[0m\u001b[1;33m\u001b[0m\u001b[0m\n",
      "\u001b[1;32mC:\\Users\\Angus\\Anaconda2\\lib\\site-packages\\sklearn\\metrics\\classification.pyc\u001b[0m in \u001b[0;36m_check_targets\u001b[1;34m(y_true, y_pred)\u001b[0m\n\u001b[0;32m     80\u001b[0m     \u001b[1;32mif\u001b[0m \u001b[0mlen\u001b[0m\u001b[1;33m(\u001b[0m\u001b[0my_type\u001b[0m\u001b[1;33m)\u001b[0m \u001b[1;33m>\u001b[0m \u001b[1;36m1\u001b[0m\u001b[1;33m:\u001b[0m\u001b[1;33m\u001b[0m\u001b[0m\n\u001b[0;32m     81\u001b[0m         raise ValueError(\"Can't handle mix of {0} and {1}\"\n\u001b[1;32m---> 82\u001b[1;33m                          \"\".format(type_true, type_pred))\n\u001b[0m\u001b[0;32m     83\u001b[0m \u001b[1;33m\u001b[0m\u001b[0m\n\u001b[0;32m     84\u001b[0m     \u001b[1;31m# We can't have more than one value on y_type => The set is no more needed\u001b[0m\u001b[1;33m\u001b[0m\u001b[1;33m\u001b[0m\u001b[0m\n",
      "\u001b[1;31mValueError\u001b[0m: Can't handle mix of multilabel-indicator and binary"
     ]
    }
   ],
   "source": [
    "import matplotlib.pyplot as plt\n",
    "from sklearn.metrics import confusion_matrix\n",
    "\n",
    "cm = confusion_matrix(X_new, y)\n",
    "\n",
    "labels = ['Churn', 'Non-Churn']\n",
    "#print()\n",
    "fig = plt.figure()\n",
    "ax = fig.add_subplot(111)\n",
    "cax = ax.matshow(cm)\n",
    "for i, cas in enumerate(cm):\n",
    "    for j, c in enumerate(cas):\n",
    "        if c>0:\n",
    "            plt.text(j-.2, i+.2, c, fontsize=14, color='white')\n",
    "plt.title('Confusion matrix for Random Forest')\n",
    "fig.colorbar(cax)\n",
    "ax.set_xticklabels([''] + labels)\n",
    "ax.set_yticklabels([''] + labels)\n",
    "#plt.text()\n",
    "plt.xlabel('Predicted')\n",
    "plt.ylabel('True')\n",
    "plt.show()\n",
    "width, height = cm.shape"
   ]
  },
  {
   "cell_type": "code",
   "execution_count": 42,
   "metadata": {
    "collapsed": false
   },
   "outputs": [
    {
     "data": {
      "text/html": [
       "<div>\n",
       "<table border=\"1\" class=\"dataframe\">\n",
       "  <thead>\n",
       "    <tr style=\"text-align: right;\">\n",
       "      <th></th>\n",
       "      <th>pred_prob</th>\n",
       "      <th>count</th>\n",
       "      <th>true_prob</th>\n",
       "    </tr>\n",
       "  </thead>\n",
       "  <tbody>\n",
       "    <tr>\n",
       "      <th>0</th>\n",
       "      <td>0.0</td>\n",
       "      <td>5153</td>\n",
       "      <td>0.014555</td>\n",
       "    </tr>\n",
       "    <tr>\n",
       "      <th>1</th>\n",
       "      <td>0.1</td>\n",
       "      <td>89</td>\n",
       "      <td>0.056180</td>\n",
       "    </tr>\n",
       "    <tr>\n",
       "      <th>2</th>\n",
       "      <td>0.2</td>\n",
       "      <td>28</td>\n",
       "      <td>0.035714</td>\n",
       "    </tr>\n",
       "    <tr>\n",
       "      <th>3</th>\n",
       "      <td>0.3</td>\n",
       "      <td>22</td>\n",
       "      <td>0.045455</td>\n",
       "    </tr>\n",
       "    <tr>\n",
       "      <th>4</th>\n",
       "      <td>0.4</td>\n",
       "      <td>9</td>\n",
       "      <td>0.000000</td>\n",
       "    </tr>\n",
       "    <tr>\n",
       "      <th>5</th>\n",
       "      <td>0.5</td>\n",
       "      <td>8</td>\n",
       "      <td>0.000000</td>\n",
       "    </tr>\n",
       "    <tr>\n",
       "      <th>6</th>\n",
       "      <td>0.6</td>\n",
       "      <td>5</td>\n",
       "      <td>0.000000</td>\n",
       "    </tr>\n",
       "    <tr>\n",
       "      <th>7</th>\n",
       "      <td>0.7</td>\n",
       "      <td>2</td>\n",
       "      <td>0.000000</td>\n",
       "    </tr>\n",
       "    <tr>\n",
       "      <th>8</th>\n",
       "      <td>0.8</td>\n",
       "      <td>1</td>\n",
       "      <td>0.000000</td>\n",
       "    </tr>\n",
       "  </tbody>\n",
       "</table>\n",
       "</div>"
      ],
      "text/plain": [
       "   pred_prob  count  true_prob\n",
       "0        0.0   5153   0.014555\n",
       "1        0.1     89   0.056180\n",
       "2        0.2     28   0.035714\n",
       "3        0.3     22   0.045455\n",
       "4        0.4      9   0.000000\n",
       "5        0.5      8   0.000000\n",
       "6        0.6      5   0.000000\n",
       "7        0.7      2   0.000000\n",
       "8        0.8      1   0.000000"
      ]
     },
     "execution_count": 42,
     "metadata": {},
     "output_type": "execute_result"
    }
   ],
   "source": [
    "import warnings\n",
    "warnings.filterwarnings('ignore')\n",
    "\n",
    "# Use 10 estimators so predictions are all multiples of 0.1\n",
    "pred_prob = run_prob_cv(X_new, y, RF, n_estimators=10)\n",
    "pred_churn = pred_prob[:,1]\n",
    "is_churn = y == 1\n",
    "\n",
    "# Number of times a predicted probability is assigned to an observation\n",
    "counts = pd.value_counts(pred_churn)\n",
    "\n",
    "# calculate true probabilities\n",
    "true_prob = {}\n",
    "for prob in counts.index:\n",
    "    true_prob[prob] = np.mean(is_churn[pred_churn == prob])\n",
    "    true_prob = pd.Series(true_prob)\n",
    "\n",
    "# pandas-fu\n",
    "counts = pd.concat([counts,true_prob], axis=1).reset_index()\n",
    "counts.columns = ['pred_prob', 'count', 'true_prob']\n",
    "counts"
   ]
  },
  {
   "cell_type": "code",
   "execution_count": 15,
   "metadata": {
    "collapsed": false
   },
   "outputs": [
    {
     "name": "stdout",
     "output_type": "stream",
     "text": [
      "Feature ranking:\n"
     ]
    },
    {
     "data": {
      "image/png": "iVBORw0KGgoAAAANSUhEUgAAAYwAAAEPCAYAAABRHfM8AAAABHNCSVQICAgIfAhkiAAAAAlwSFlz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\nRK5CYII=\n",
      "text/plain": [
       "<matplotlib.figure.Figure at 0x7f865156e9d0>"
      ]
     },
     "metadata": {},
     "output_type": "display_data"
    }
   ],
   "source": [
    "\n",
    "import numpy as np\n",
    "import matplotlib.pyplot as plt\n",
    "\n",
    "from sklearn.datasets import make_classification\n",
    "from sklearn.ensemble import ExtraTreesClassifier\n",
    "\n",
    "cm = ExtraTreesClassifier(n_estimators=250,\n",
    "                              random_state=0)\n",
    "\n",
    "cm.fit(X, y)\n",
    "importances = cm.feature_importances_\n",
    "std = np.std([tree.feature_importances_ for tree in cm.estimators_],\n",
    "             axis=0)\n",
    "indices = np.argsort(importances)[::-1]\n",
    "\n",
    "# Print the feature ranking\n",
    "print(\"Feature ranking:\")\n",
    "\n",
    "# for f in range(X.shape[1]):\n",
    "#     print(\"%d. feature %d (%f)\" % (f + 1, indices[f], importances[indices[f]]))\n",
    "\n",
    "# Plot the feature importances of the forest\n",
    "plt.figure()\n",
    "plt.title(\"Feature importances\")\n",
    "plt.bar(range(X.shape[1]), importances[indices],\n",
    "       color=\"r\", yerr=std[indices], align=\"center\")\n",
    "plt.xticks(range(X.shape[1]), indices)\n",
    "plt.xlim([-1, X.shape[1]])\n",
    "plt.show()"
   ]
  },
  {
   "cell_type": "code",
   "execution_count": 28,
   "metadata": {
    "collapsed": false
   },
   "outputs": [
    {
     "name": "stdout",
     "output_type": "stream",
     "text": [
      "[[-0.38455726 -0.19303114 -0.18933168 ..., -0.01371537 -0.69328642\n",
      "   0.69328642]\n",
      " [-0.38455726 -0.19303114 -0.18933168 ..., -0.01371537  1.44240529\n",
      "  -1.44240529]\n",
      " [-0.38455726 -0.19303114 -0.18933168 ..., -0.01371537 -0.69328642\n",
      "   0.69328642]\n",
      " ..., \n",
      " [-0.38455726 -0.19303114 -0.18933168 ..., -0.01371537 -0.69328642\n",
      "   0.69328642]\n",
      " [-0.38455726 -0.19303114 -0.18933168 ..., -0.01371537 -0.69328642\n",
      "   0.69328642]\n",
      " [-0.38455726  5.1805112  -0.18933168 ..., -0.01371537 -0.69328642\n",
      "   0.69328642]]\n"
     ]
    }
   ],
   "source": [
    "print X_new"
   ]
  },
  {
   "cell_type": "code",
   "execution_count": 2,
   "metadata": {
    "collapsed": false
   },
   "outputs": [
    {
     "ename": "NameError",
     "evalue": "name 'Pipeline' is not defined",
     "output_type": "error",
     "traceback": [
      "\u001b[1;31m---------------------------------------------------------------------------\u001b[0m",
      "\u001b[1;31mNameError\u001b[0m                                 Traceback (most recent call last)",
      "\u001b[1;32m<ipython-input-2-98a7207cd81c>\u001b[0m in \u001b[0;36m<module>\u001b[1;34m()\u001b[0m\n\u001b[0;32m      1\u001b[0m \u001b[1;32mimport\u001b[0m \u001b[0msklearn\u001b[0m\u001b[1;33m.\u001b[0m\u001b[0mfeature_selection\u001b[0m\u001b[1;33m\u001b[0m\u001b[0m\n\u001b[0;32m      2\u001b[0m \u001b[1;33m\u001b[0m\u001b[0m\n\u001b[1;32m----> 3\u001b[1;33m clf = Pipeline([\n\u001b[0m\u001b[0;32m      4\u001b[0m   \u001b[1;33m(\u001b[0m\u001b[1;34m'feature_selection'\u001b[0m\u001b[1;33m,\u001b[0m \u001b[0mSelectFromModel\u001b[0m\u001b[1;33m(\u001b[0m\u001b[0mLinearSVC\u001b[0m\u001b[1;33m(\u001b[0m\u001b[0mpenalty\u001b[0m\u001b[1;33m=\u001b[0m\u001b[1;34m\"l1\"\u001b[0m\u001b[1;33m)\u001b[0m\u001b[1;33m)\u001b[0m\u001b[1;33m)\u001b[0m\u001b[1;33m,\u001b[0m\u001b[1;33m\u001b[0m\u001b[0m\n\u001b[0;32m      5\u001b[0m   \u001b[1;33m(\u001b[0m\u001b[1;34m'classification'\u001b[0m\u001b[1;33m,\u001b[0m \u001b[0mRandomForestClassifier\u001b[0m\u001b[1;33m(\u001b[0m\u001b[1;33m)\u001b[0m\u001b[1;33m)\u001b[0m\u001b[1;33m\u001b[0m\u001b[0m\n",
      "\u001b[1;31mNameError\u001b[0m: name 'Pipeline' is not defined"
     ]
    }
   ],
   "source": [
    "import sklearn.feature_selection\n",
    "\n",
    "clf = Pipeline([\n",
    "  ('feature_selection', SelectFromModel(LinearSVC(penalty=\"l1\"))),\n",
    "  ('classification', RandomForestClassifier())\n",
    "])\n",
    "clf.fit(X, y)"
   ]
  },
  {
   "cell_type": "code",
   "execution_count": null,
   "metadata": {
    "collapsed": true
   },
   "outputs": [],
   "source": []
  }
 ],
 "metadata": {
  "kernelspec": {
   "display_name": "Python 2",
   "language": "python",
   "name": "python2"
  },
  "language_info": {
   "codemirror_mode": {
    "name": "ipython",
    "version": 2
   },
   "file_extension": ".py",
   "mimetype": "text/x-python",
   "name": "python",
   "nbconvert_exporter": "python",
   "pygments_lexer": "ipython2",
   "version": "2.7.11"
  }
 },
 "nbformat": 4,
 "nbformat_minor": 0
}
